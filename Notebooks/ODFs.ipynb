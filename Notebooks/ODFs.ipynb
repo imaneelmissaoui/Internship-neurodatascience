{
 "cells": [
  {
   "attachments": {},
   "cell_type": "markdown",
   "metadata": {},
   "source": [
    "# Imports"
   ]
  },
  {
   "cell_type": "code",
   "execution_count": 1,
   "metadata": {},
   "outputs": [],
   "source": [
    "import numpy as np\n",
    "from dipy.io.gradients import read_bvals_bvecs\n",
    "from dipy.core.gradients import gradient_table\n",
    "from bids.layout import BIDSLayout\n",
    "import dipy.reconst.dti as dti\n",
    "from dipy.io.image import load_nifti_data, load_nifti, save_nifti\n",
    "from dipy.data import get_fnames, get_sphere\n",
    "from dipy.core.sphere import HemiSphere\n",
    "from dipy.segment.mask import median_otsu\n",
    "import dipy.reconst.dti as dti\n",
    "import nibabel as nib\n",
    "from dipy.sims.voxel import single_tensor_odf\n",
    "import numpy as np\n",
    "import gudhi as gd\n",
    "from dipy.reconst.rumba import RumbaSDModel\n",
    "from dipy.reconst.csdeconv import auto_response_ssst\n",
    "from fury import window, actor"
   ]
  },
  {
   "attachments": {},
   "cell_type": "markdown",
   "metadata": {},
   "source": [
    "# Init"
   ]
  },
  {
   "cell_type": "code",
   "execution_count": 2,
   "metadata": {},
   "outputs": [],
   "source": [
    "gradient_layout = BIDSLayout(\"./openneuro/ds001907/sub-RC4201/ses-1/\", validate=False)\n",
    "\n",
    "subj = 'RC4201'\n",
    "\n",
    "dwi_fname = gradient_layout.get(subject=subj, suffix='dwi', extension='.nii.gz', return_type='file')[0]\n",
    "bvec_fname = gradient_layout.get( extension='.bvec', return_type='file')[0]\n",
    "bval_fname = gradient_layout.get( extension='.bval', return_type='file')[0]\n",
    "\n",
    "dwi_img = nib.load(dwi_fname)\n",
    "affine = dwi_img.affine\n",
    "\n",
    "bvals, bvecs = read_bvals_bvecs(bval_fname, bvec_fname)\n",
    "gtab = gradient_table(bvals, bvecs)\n",
    "\n",
    "\n",
    "#sphere = HemiSphere.from_sphere(get_sphere('repulsion724')) they recommend to use hemisphere for rumba to optimize time\n",
    "sphere = get_sphere('repulsion724')"
   ]
  },
  {
   "cell_type": "code",
   "execution_count": 3,
   "metadata": {},
   "outputs": [],
   "source": [
    "dwi_data = dwi_img.get_fdata()\n",
    "maskdata, mask = median_otsu(dwi_data, vol_idx=range(10, 50), median_radius=3,\n",
    "                             numpass=1, autocrop=True, dilate=2)"
   ]
  },
  {
   "cell_type": "code",
   "execution_count": 4,
   "metadata": {},
   "outputs": [
    {
     "name": "stdout",
     "output_type": "stream",
     "text": [
      "(array([0.00165202, 0.00039875, 0.00039875]), 69502.95412529839)\n"
     ]
    }
   ],
   "source": [
    "rumba = RumbaSDModel(gtab)\n",
    "response, _ = auto_response_ssst(gtab, dwi_data, roi_radii=10, fa_thr=0.7)"
   ]
  },
  {
   "cell_type": "code",
   "execution_count": null,
   "metadata": {},
   "outputs": [],
   "source": [
    "def dataToOdf(data):\n",
    "    rumba_fit = rumba.fit(data)\n",
    "\n",
    "    odf = rumba_fit.odf()\n",
    "    combined = rumba_fit.combined_odf_iso\n",
    "\n",
    "    fodf_spheres1 = actor.odf_slicer(combined, sphere=sphere, norm=True,\n",
    "                                    scale=0.5, colormap=None)\n",
    "    return fodf_spheres1,odf,combined"
   ]
  },
  {
   "cell_type": "code",
   "execution_count": 21,
   "metadata": {},
   "outputs": [],
   "source": [
    "#global fit\n",
    "rumba = RumbaSDModel(gtab, wm_response=response[0], gm_response=None,\n",
    "                     voxelwise=False, use_tv=False, sphere=sphere)\n",
    "data_tv = dwi_data[20:24, 42:46, 21:22]\n",
    "\n",
    "vox = dwi_data[29:30,59:60,38:39]\n",
    "\n",
    "# For now let's solve for voxel space\n",
    "data1"
   ]
  },
  {
   "cell_type": "code",
   "execution_count": 22,
   "metadata": {},
   "outputs": [],
   "source": [
    "rumba_fit = rumba.fit(data_tv)\n",
    "\n",
    "odf = rumba_fit.odf()\n",
    "combined = rumba_fit.combined_odf_iso\n",
    "\n",
    "fodf_spheres1 = actor.odf_slicer(combined, sphere=sphere, norm=True,\n",
    "                                scale=0.5, colormap=None)\n",
    "scene = window.Scene()\n",
    "scene.add(fodf_spheres1)\n",
    "window.show(scene)"
   ]
  },
  {
   "cell_type": "code",
   "execution_count": 7,
   "metadata": {},
   "outputs": [],
   "source": [
    "fodf_spheres = actor.odf_slicer(odf, sphere=sphere, norm=True,\n",
    "                                scale=0.5, colormap=None)\n",
    "\n",
    "scene = window.Scene()\n",
    "scene.add(fodf_spheres)\n",
    "window.show(scene)"
   ]
  },
  {
   "cell_type": "code",
   "execution_count": 8,
   "metadata": {},
   "outputs": [
    {
     "name": "stdout",
     "output_type": "stream",
     "text": [
      "(1444, 3)\n"
     ]
    }
   ],
   "source": [
    "fodf_spheres.faces.shape\n",
    "\n",
    "# Slice All Odfs into singular Objects First?\n",
    "# --- For now use the one sperated above\n",
    "\n",
    "# Create Tetrahedra from Triangle Mesh\n",
    "# This is only for one Singular Object.\n",
    "faces = fodf_spheres.faces\n",
    "print(faces.shape)\n",
    "vertices = fodf_spheres.vertices \n",
    "x1, x2, y1, y2, z1, z2 = fodf_spheres.GetBounds()\n",
    "center = fodf_spheres.GetPosition()\n",
    "tetrahedra_list = []\n",
    "for face in faces:\n",
    "    # Get the three vertices that make up the face\n",
    "    v1, v2, v3 = vertices[face[0]], vertices[face[1]], vertices[face[2]]\n",
    "    # Create a list of all four vertices with the center of the ODF\n",
    "    center = np.array(center)\n",
    "    tetrahedra = [v1, v2, v3, center]\n",
    "    # newFaces = Vertex index -> create 3 new faces \n",
    "    # Add the tetrahedron to the list\n",
    "    tetrahedra_list.append(tetrahedra)"
   ]
  }
 ],
 "metadata": {
  "kernelspec": {
   "display_name": "Python 3",
   "language": "python",
   "name": "python3"
  },
  "language_info": {
   "codemirror_mode": {
    "name": "ipython",
    "version": 3
   },
   "file_extension": ".py",
   "mimetype": "text/x-python",
   "name": "python",
   "nbconvert_exporter": "python",
   "pygments_lexer": "ipython3",
   "version": "3.9.10"
  },
  "orig_nbformat": 4
 },
 "nbformat": 4,
 "nbformat_minor": 2
}
